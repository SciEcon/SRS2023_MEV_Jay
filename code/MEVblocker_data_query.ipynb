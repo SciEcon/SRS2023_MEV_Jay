{
  "nbformat": 4,
  "nbformat_minor": 0,
  "metadata": {
    "colab": {
      "provenance": [],
      "authorship_tag": "ABX9TyMkBHk5Ev3rqBngRpnHagvq",
      "include_colab_link": true
    },
    "kernelspec": {
      "name": "python3",
      "display_name": "Python 3"
    },
    "language_info": {
      "name": "python"
    }
  },
  "cells": [
    {
      "cell_type": "markdown",
      "metadata": {
        "id": "view-in-github",
        "colab_type": "text"
      },
      "source": [
        "<a href=\"https://colab.research.google.com/github/SciEcon/SRS2023_MEV_Jay/blob/main/code/MEVblocker_data_query.ipynb\" target=\"_parent\"><img src=\"https://colab.research.google.com/assets/colab-badge.svg\" alt=\"Open In Colab\"/></a>"
      ]
    },
    {
      "cell_type": "code",
      "execution_count": 60,
      "metadata": {
        "id": "WNgew3lzX0GH"
      },
      "outputs": [],
      "source": [
        "import requests\n",
        "from requests import get, post"
      ]
    },
    {
      "cell_type": "code",
      "source": [
        "import pandas as pd\n",
        "import numpy as np\n"
      ],
      "metadata": {
        "id": "ABgbxTX6X17L"
      },
      "execution_count": 13,
      "outputs": []
    },
    {
      "cell_type": "code",
      "source": [
        "BASE_URL = \"https://api.dune.com/api/v1/\"\n",
        "\n",
        "def make_api_url(module, action, ID):\n",
        "    \"\"\"\n",
        "    We shall use this function to generate a URL to call the API.\n",
        "    \"\"\"\n",
        "\n",
        "    url = BASE_URL + module + \"/\" + ID + \"/\" + action\n",
        "\n",
        "    return url"
      ],
      "metadata": {
        "id": "9TPeRRJVx8Jo"
      },
      "execution_count": 14,
      "outputs": []
    },
    {
      "cell_type": "code",
      "source": [
        "def execute_query(query_id, engine=\"medium\"):\n",
        "    \"\"\"\n",
        "    Takes in the query ID and engine size.\n",
        "    Specifying the engine size will change how quickly your query runs.\n",
        "    The default is \"medium\" which spends 10 credits, while \"large\" spends 20 credits.\n",
        "    Calls the API to execute the query.\n",
        "    Returns the execution ID of the instance which is executing the query.\n",
        "    \"\"\"\n",
        "\n",
        "    url = make_api_url(\"query\", \"execute\", query_id)\n",
        "    params = {\n",
        "        \"performance\": engine,\n",
        "    }\n",
        "    response = post(url, headers=HEADER, params=params)\n",
        "    execution_id = response.json()['execution_id']\n",
        "\n",
        "    return execution_id\n",
        "\n",
        "\n",
        "def get_query_status(execution_id):\n",
        "    \"\"\"\n",
        "    Takes in an execution ID.\n",
        "    Fetches the status of query execution using the API\n",
        "    Returns the status response object\n",
        "    \"\"\"\n",
        "\n",
        "    url = make_api_url(\"execution\", \"status\", execution_id)\n",
        "    response = get(url, headers=HEADER)\n",
        "\n",
        "    return response\n",
        "\n",
        "\n",
        "def get_query_results(execution_id):\n",
        "    \"\"\"\n",
        "    Takes in an execution ID.\n",
        "    Fetches the results returned from the query using the API\n",
        "    Returns the results response object\n",
        "    \"\"\"\n",
        "\n",
        "    url = make_api_url(\"execution\", \"results\", execution_id)\n",
        "    response = get(url, headers=HEADER)\n",
        "\n",
        "    return response\n",
        "\n",
        "\n",
        "def cancel_query_execution(execution_id):\n",
        "    \"\"\"\n",
        "    Takes in an execution ID.\n",
        "    Cancels the ongoing execution of the query.\n",
        "    Returns the response object.\n",
        "    \"\"\"\n",
        "\n",
        "    url = make_api_url(\"execution\", \"cancel\", execution_id)\n",
        "    response = get(url, headers=HEADER)\n",
        "\n",
        "    return response\n"
      ],
      "metadata": {
        "id": "-Gpx724hyOuR"
      },
      "execution_count": 19,
      "outputs": []
    },
    {
      "cell_type": "code",
      "source": [
        "url='https://api.dune.com/api/v1/query/2441751/results/csv?api_key=<Your_API>'"
      ],
      "metadata": {
        "id": "FestkZUSX8jD"
      },
      "execution_count": 22,
      "outputs": []
    },
    {
      "cell_type": "code",
      "source": [
        "API_KEY = 'Your_API'\n",
        "HEADER = {\"x-dune-api-key\" : API_KEY}"
      ],
      "metadata": {
        "id": "knOARWO_ZNdh"
      },
      "execution_count": 36,
      "outputs": []
    },
    {
      "cell_type": "code",
      "source": [
        "response = get(url,headers = HEADER)"
      ],
      "metadata": {
        "id": "G0yDRnk4YQm6"
      },
      "execution_count": 37,
      "outputs": []
    },
    {
      "cell_type": "code",
      "source": [
        "response\n"
      ],
      "metadata": {
        "colab": {
          "base_uri": "https://localhost:8080/"
        },
        "id": "ga2AUsJyYzFl",
        "outputId": "e46c1f71-e5e9-4ae6-c52d-9e1f715181cf"
      },
      "execution_count": 38,
      "outputs": [
        {
          "output_type": "execute_result",
          "data": {
            "text/plain": [
              "<Response [200]>"
            ]
          },
          "metadata": {},
          "execution_count": 38
        }
      ]
    },
    {
      "cell_type": "code",
      "source": [
        "execution_id = execute_query(\"2441751\",\"large\")\n"
      ],
      "metadata": {
        "id": "rO4sepQ5ZFE0"
      },
      "execution_count": 46,
      "outputs": []
    },
    {
      "cell_type": "code",
      "source": [
        "execution_id"
      ],
      "metadata": {
        "colab": {
          "base_uri": "https://localhost:8080/",
          "height": 35
        },
        "id": "2pLdur-DydOi",
        "outputId": "97254a91-100e-4a6d-caf6-80f58e32fe75"
      },
      "execution_count": 47,
      "outputs": [
        {
          "output_type": "execute_result",
          "data": {
            "text/plain": [
              "'01H6TG9W2EK0RCVWY1R8Q65BRS'"
            ],
            "application/vnd.google.colaboratory.intrinsic+json": {
              "type": "string"
            }
          },
          "metadata": {},
          "execution_count": 47
        }
      ]
    },
    {
      "cell_type": "code",
      "source": [
        "response = get_query_status(execution_id)"
      ],
      "metadata": {
        "id": "XAXeX7bRyfM0"
      },
      "execution_count": 48,
      "outputs": []
    },
    {
      "cell_type": "code",
      "source": [
        "response"
      ],
      "metadata": {
        "colab": {
          "base_uri": "https://localhost:8080/"
        },
        "id": "qBoN3hg_AgF7",
        "outputId": "3a99ad00-875e-4c8f-e2fb-a8d6a4aa328e"
      },
      "execution_count": 49,
      "outputs": [
        {
          "output_type": "execute_result",
          "data": {
            "text/plain": [
              "<Response [200]>"
            ]
          },
          "metadata": {},
          "execution_count": 49
        }
      ]
    },
    {
      "cell_type": "code",
      "source": [
        "response = get_query_results(execution_id)\n",
        "print(response.json()['result'])"
      ],
      "metadata": {
        "colab": {
          "base_uri": "https://localhost:8080/"
        },
        "id": "RIFjI9R4AiZR",
        "outputId": "8b4a8eac-9811-43ab-f6f3-146b8040ca8f"
      },
      "execution_count": 55,
      "outputs": [
        {
          "output_type": "stream",
          "name": "stdout",
          "text": [
            "{'rows': [{'day': '2023-07-08 00:00:00.000 UTC', 'num_evm_tx': 1014086, 'num_mevblocker_tx': 56001, 'tx_proportion': 5.5223127032618535}, {'day': '2023-08-01 00:00:00.000 UTC', 'num_evm_tx': 1068108, 'num_mevblocker_tx': 55405, 'tx_proportion': 5.187209533118374}, {'day': '2023-07-30 00:00:00.000 UTC', 'num_evm_tx': 981157, 'num_mevblocker_tx': 38574, 'tx_proportion': 3.931480894494969}, {'day': '2023-06-21 00:00:00.000 UTC', 'num_evm_tx': 1091714, 'num_mevblocker_tx': 41137, 'tx_proportion': 3.768111428451041}, {'day': '2023-06-14 00:00:00.000 UTC', 'num_evm_tx': 1023424, 'num_mevblocker_tx': 36768, 'tx_proportion': 3.592645863298105}, {'day': '2023-06-04 00:00:00.000 UTC', 'num_evm_tx': 962454, 'num_mevblocker_tx': 39723, 'tx_proportion': 4.127262186036943}, {'day': '2023-06-20 00:00:00.000 UTC', 'num_evm_tx': 1072045, 'num_mevblocker_tx': 41141, 'tx_proportion': 3.837618756675326}, {'day': '2023-07-15 00:00:00.000 UTC', 'num_evm_tx': 950700, 'num_mevblocker_tx': 49767, 'tx_proportion': 5.2347743767750075}, {'day': '2023-05-20 00:00:00.000 UTC', 'num_evm_tx': 1049772, 'num_mevblocker_tx': 38809, 'tx_proportion': 3.696897993088023}, {'day': '2023-06-09 00:00:00.000 UTC', 'num_evm_tx': 1046976, 'num_mevblocker_tx': 37374, 'tx_proportion': 3.5697093343113884}, {'day': '2023-06-08 00:00:00.000 UTC', 'num_evm_tx': 1008582, 'num_mevblocker_tx': 44998, 'tx_proportion': 4.461511309938111}, {'day': '2023-06-10 00:00:00.000 UTC', 'num_evm_tx': 1204433, 'num_mevblocker_tx': 22532, 'tx_proportion': 1.8707557830115913}, {'day': '2023-06-13 00:00:00.000 UTC', 'num_evm_tx': 952433, 'num_mevblocker_tx': 32849, 'tx_proportion': 3.4489565145264813}, {'day': '2023-07-10 00:00:00.000 UTC', 'num_evm_tx': 1057858, 'num_mevblocker_tx': 66304, 'tx_proportion': 6.267759945096601}, {'day': '2023-04-26 00:00:00.000 UTC', 'num_evm_tx': 978121, 'num_mevblocker_tx': 18, 'tx_proportion': 0.0018402631167309567}, {'day': '2023-05-05 00:00:00.000 UTC', 'num_evm_tx': 1208548, 'num_mevblocker_tx': 37721, 'tx_proportion': 3.121183436652909}, {'day': '2023-07-23 00:00:00.000 UTC', 'num_evm_tx': 977305, 'num_mevblocker_tx': 63104, 'tx_proportion': 6.456940259182138}, {'day': '2023-07-28 00:00:00.000 UTC', 'num_evm_tx': 1014601, 'num_mevblocker_tx': 65808, 'tx_proportion': 6.486096504931496}, {'day': '2023-06-06 00:00:00.000 UTC', 'num_evm_tx': 1095144, 'num_mevblocker_tx': 44988, 'tx_proportion': 4.107952926738402}, {'day': '2023-05-11 00:00:00.000 UTC', 'num_evm_tx': 1099638, 'num_mevblocker_tx': 55798, 'tx_proportion': 5.07421533268221}, {'day': '2023-06-12 00:00:00.000 UTC', 'num_evm_tx': 975959, 'num_mevblocker_tx': 36274, 'tx_proportion': 3.7167544948097206}, {'day': '2023-05-31 00:00:00.000 UTC', 'num_evm_tx': 1098149, 'num_mevblocker_tx': 55841, 'tx_proportion': 5.085011232537661}, {'day': '2023-07-16 00:00:00.000 UTC', 'num_evm_tx': 946750, 'num_mevblocker_tx': 58350, 'tx_proportion': 6.163189860047531}, {'day': '2023-05-23 00:00:00.000 UTC', 'num_evm_tx': 1113165, 'num_mevblocker_tx': 65282, 'tx_proportion': 5.864539398921094}, {'day': '2023-05-03 00:00:00.000 UTC', 'num_evm_tx': 1117146, 'num_mevblocker_tx': 34331, 'tx_proportion': 3.0730987713333797}, {'day': '2023-07-20 00:00:00.000 UTC', 'num_evm_tx': 1049510, 'num_mevblocker_tx': 64446, 'tx_proportion': 6.140579889662795}, {'day': '2023-05-12 00:00:00.000 UTC', 'num_evm_tx': 1070884, 'num_mevblocker_tx': 44459, 'tx_proportion': 4.151616795096388}, {'day': '2023-07-02 00:00:00.000 UTC', 'num_evm_tx': 925771, 'num_mevblocker_tx': 48264, 'tx_proportion': 5.213384303461655}, {'day': '2023-07-11 00:00:00.000 UTC', 'num_evm_tx': 1091428, 'num_mevblocker_tx': 60079, 'tx_proportion': 5.504623300849896}, {'day': '2023-05-17 00:00:00.000 UTC', 'num_evm_tx': 1043585, 'num_mevblocker_tx': 26037, 'tx_proportion': 2.494957286660885}, {'day': '2023-06-15 00:00:00.000 UTC', 'num_evm_tx': 1110065, 'num_mevblocker_tx': 34709, 'tx_proportion': 3.126753838739173}, {'day': '2023-05-14 00:00:00.000 UTC', 'num_evm_tx': 992354, 'num_mevblocker_tx': 34050, 'tx_proportion': 3.4312352245267315}, {'day': '2023-05-08 00:00:00.000 UTC', 'num_evm_tx': 1145960, 'num_mevblocker_tx': 44872, 'tx_proportion': 3.9156689587769207}, {'day': '2023-04-24 00:00:00.000 UTC', 'num_evm_tx': 940804, 'num_mevblocker_tx': 5, 'tx_proportion': 0.0005314603254237864}, {'day': '2023-07-06 00:00:00.000 UTC', 'num_evm_tx': 914280, 'num_mevblocker_tx': 53330, 'tx_proportion': 5.8330052062825395}, {'day': '2023-05-21 00:00:00.000 UTC', 'num_evm_tx': 1014742, 'num_mevblocker_tx': 41274, 'tx_proportion': 4.067437831488201}, {'day': '2023-07-25 00:00:00.000 UTC', 'num_evm_tx': 990249, 'num_mevblocker_tx': 70791, 'tx_proportion': 7.148808027071979}, {'day': '2023-07-19 00:00:00.000 UTC', 'num_evm_tx': 1093783, 'num_mevblocker_tx': 66856, 'tx_proportion': 6.112364152670136}, {'day': '2023-05-16 00:00:00.000 UTC', 'num_evm_tx': 1072600, 'num_mevblocker_tx': 2, 'tx_proportion': 0.00018646280067126608}, {'day': '2023-05-22 00:00:00.000 UTC', 'num_evm_tx': 1075234, 'num_mevblocker_tx': 56333, 'tx_proportion': 5.23913864330927}, {'day': '2023-06-23 00:00:00.000 UTC', 'num_evm_tx': 1054976, 'num_mevblocker_tx': 46038, 'tx_proportion': 4.363890742538219}, {'day': '2023-04-25 00:00:00.000 UTC', 'num_evm_tx': 976311, 'num_mevblocker_tx': 9, 'tx_proportion': 0.0009218374063182736}, {'day': '2023-07-12 00:00:00.000 UTC', 'num_evm_tx': 1041317, 'num_mevblocker_tx': 57409, 'tx_proportion': 5.513114642323135}, {'day': '2023-05-27 00:00:00.000 UTC', 'num_evm_tx': 982620, 'num_mevblocker_tx': 39321, 'tx_proportion': 4.001648653599561}, {'day': '2023-06-28 00:00:00.000 UTC', 'num_evm_tx': 1094481, 'num_mevblocker_tx': 51506, 'tx_proportion': 4.705974795359627}, {'day': '2023-06-22 00:00:00.000 UTC', 'num_evm_tx': 1052333, 'num_mevblocker_tx': 37132, 'tx_proportion': 3.5285408706179506}, {'day': '2023-05-13 00:00:00.000 UTC', 'num_evm_tx': 994500, 'num_mevblocker_tx': 31939, 'tx_proportion': 3.211563599798894}, {'day': '2023-06-17 00:00:00.000 UTC', 'num_evm_tx': 984217, 'num_mevblocker_tx': 25789, 'tx_proportion': 2.6202554924371353}, {'day': '2023-07-27 00:00:00.000 UTC', 'num_evm_tx': 998420, 'num_mevblocker_tx': 65732, 'tx_proportion': 6.583602091304261}, {'day': '2023-05-04 00:00:00.000 UTC', 'num_evm_tx': 1110210, 'num_mevblocker_tx': 38199, 'tx_proportion': 3.440700408030913}, {'day': '2023-05-25 00:00:00.000 UTC', 'num_evm_tx': 1062757, 'num_mevblocker_tx': 50787, 'tx_proportion': 4.778797034505536}, {'day': '2023-07-07 00:00:00.000 UTC', 'num_evm_tx': 1038341, 'num_mevblocker_tx': 68265, 'tx_proportion': 6.574429787516817}, {'day': '2023-07-21 00:00:00.000 UTC', 'num_evm_tx': 1110882, 'num_mevblocker_tx': 71850, 'tx_proportion': 6.467833667302198}, {'day': '2023-05-29 00:00:00.000 UTC', 'num_evm_tx': 1082245, 'num_mevblocker_tx': 67639, 'tx_proportion': 6.249878724318431}, {'day': '2023-06-25 00:00:00.000 UTC', 'num_evm_tx': 934895, 'num_mevblocker_tx': 28912, 'tx_proportion': 3.0925398039352014}, {'day': '2023-06-01 00:00:00.000 UTC', 'num_evm_tx': 1071180, 'num_mevblocker_tx': 56268, 'tx_proportion': 5.252898672492019}, {'day': '2023-04-30 00:00:00.000 UTC', 'num_evm_tx': 974972, 'num_mevblocker_tx': 27762, 'tx_proportion': 2.8474663887783445}, {'day': '2023-05-02 00:00:00.000 UTC', 'num_evm_tx': 1127805, 'num_mevblocker_tx': 36543, 'tx_proportion': 3.2401877984225997}, {'day': '2023-05-19 00:00:00.000 UTC', 'num_evm_tx': 1073998, 'num_mevblocker_tx': 44888, 'tx_proportion': 4.179523611775814}, {'day': '2023-07-03 00:00:00.000 UTC', 'num_evm_tx': 1061564, 'num_mevblocker_tx': 53318, 'tx_proportion': 5.02258931161946}, {'day': '2023-07-22 00:00:00.000 UTC', 'num_evm_tx': 1004374, 'num_mevblocker_tx': 63478, 'tx_proportion': 6.320155639233991}, {'day': '2023-06-30 00:00:00.000 UTC', 'num_evm_tx': 1129184, 'num_mevblocker_tx': 50968, 'tx_proportion': 4.513701929889194}, {'day': '2023-05-30 00:00:00.000 UTC', 'num_evm_tx': 1190789, 'num_mevblocker_tx': 59666, 'tx_proportion': 5.010627407542394}, {'day': '2023-08-02 00:00:00.000 UTC', 'num_evm_tx': 290695, 'num_mevblocker_tx': 17042, 'tx_proportion': 5.862501935017802}, {'day': '2023-07-01 00:00:00.000 UTC', 'num_evm_tx': 1015838, 'num_mevblocker_tx': 51773, 'tx_proportion': 5.0965803602542925}, {'day': '2023-05-18 00:00:00.000 UTC', 'num_evm_tx': 1054402, 'num_mevblocker_tx': 49464, 'tx_proportion': 4.69118988772783}, {'day': '2023-04-29 00:00:00.000 UTC', 'num_evm_tx': 887098, 'num_mevblocker_tx': 21202, 'tx_proportion': 2.390040333762448}, {'day': '2023-06-19 00:00:00.000 UTC', 'num_evm_tx': 1046350, 'num_mevblocker_tx': 39534, 'tx_proportion': 3.778276867205046}, {'day': '2023-05-15 00:00:00.000 UTC', 'num_evm_tx': 1091921, 'num_mevblocker_tx': 23731, 'tx_proportion': 2.173325725945375}, {'day': '2023-06-29 00:00:00.000 UTC', 'num_evm_tx': 1064346, 'num_mevblocker_tx': 65087, 'tx_proportion': 6.11521065518168}, {'day': '2023-07-05 00:00:00.000 UTC', 'num_evm_tx': 760586, 'num_mevblocker_tx': 39223, 'tx_proportion': 5.156944776790527}, {'day': '2023-06-03 00:00:00.000 UTC', 'num_evm_tx': 1003794, 'num_mevblocker_tx': 38914, 'tx_proportion': 3.876691831192456}, {'day': '2023-07-04 00:00:00.000 UTC', 'num_evm_tx': 931944, 'num_mevblocker_tx': 39361, 'tx_proportion': 4.223537036560137}, {'day': '2023-07-31 00:00:00.000 UTC', 'num_evm_tx': 1048101, 'num_mevblocker_tx': 40237, 'tx_proportion': 3.8390384132826894}, {'day': '2023-07-24 00:00:00.000 UTC', 'num_evm_tx': 1036300, 'num_mevblocker_tx': 70462, 'tx_proportion': 6.799382418218663}, {'day': '2023-07-18 00:00:00.000 UTC', 'num_evm_tx': 1175963, 'num_mevblocker_tx': 59776, 'tx_proportion': 5.083153126416392}, {'day': '2023-05-07 00:00:00.000 UTC', 'num_evm_tx': 1101487, 'num_mevblocker_tx': 51492, 'tx_proportion': 4.674771468024589}, {'day': '2023-06-16 00:00:00.000 UTC', 'num_evm_tx': 1146585, 'num_mevblocker_tx': 23747, 'tx_proportion': 2.0711068084790925}, {'day': '2023-06-02 00:00:00.000 UTC', 'num_evm_tx': 1102996, 'num_mevblocker_tx': 47800, 'tx_proportion': 4.333651255308269}, {'day': '2023-06-05 00:00:00.000 UTC', 'num_evm_tx': 1151611, 'num_mevblocker_tx': 47673, 'tx_proportion': 4.139679110394048}, {'day': '2023-05-01 00:00:00.000 UTC', 'num_evm_tx': 1102060, 'num_mevblocker_tx': 35551, 'tx_proportion': 3.2258679200769467}, {'day': '2023-07-13 00:00:00.000 UTC', 'num_evm_tx': 1121269, 'num_mevblocker_tx': 60703, 'tx_proportion': 5.413776711921939}, {'day': '2023-04-28 00:00:00.000 UTC', 'num_evm_tx': 987649, 'num_mevblocker_tx': 22561, 'tx_proportion': 2.284313556739287}, {'day': '2023-06-07 00:00:00.000 UTC', 'num_evm_tx': 1071257, 'num_mevblocker_tx': 41635, 'tx_proportion': 3.8865557004528326}, {'day': '2023-05-10 00:00:00.000 UTC', 'num_evm_tx': 1086375, 'num_mevblocker_tx': 51041, 'tx_proportion': 4.698285582786791}, {'day': '2023-05-24 00:00:00.000 UTC', 'num_evm_tx': 1054823, 'num_mevblocker_tx': 52961, 'tx_proportion': 5.02084235933422}, {'day': '2023-07-09 00:00:00.000 UTC', 'num_evm_tx': 954379, 'num_mevblocker_tx': 60344, 'tx_proportion': 6.322854966423193}, {'day': '2023-06-11 00:00:00.000 UTC', 'num_evm_tx': 1106073, 'num_mevblocker_tx': 23226, 'tx_proportion': 2.099861401553062}, {'day': '2023-05-09 00:00:00.000 UTC', 'num_evm_tx': 1126707, 'num_mevblocker_tx': 48692, 'tx_proportion': 4.32162043903162}, {'day': '2023-05-28 00:00:00.000 UTC', 'num_evm_tx': 968996, 'num_mevblocker_tx': 53832, 'tx_proportion': 5.555440889332877}, {'day': '2023-07-26 00:00:00.000 UTC', 'num_evm_tx': 1029348, 'num_mevblocker_tx': 61983, 'tx_proportion': 6.021578708075403}, {'day': '2023-06-24 00:00:00.000 UTC', 'num_evm_tx': 1004563, 'num_mevblocker_tx': 33546, 'tx_proportion': 3.3393624889628626}, {'day': '2023-06-26 00:00:00.000 UTC', 'num_evm_tx': 996984, 'num_mevblocker_tx': 33951, 'tx_proportion': 3.4053705977227318}, {'day': '2023-05-06 00:00:00.000 UTC', 'num_evm_tx': 1145565, 'num_mevblocker_tx': 46053, 'tx_proportion': 4.020112346309463}, {'day': '2023-06-18 00:00:00.000 UTC', 'num_evm_tx': 1001818, 'num_mevblocker_tx': 37905, 'tx_proportion': 3.783621376337818}, {'day': '2023-07-29 00:00:00.000 UTC', 'num_evm_tx': 991161, 'num_mevblocker_tx': 57162, 'tx_proportion': 5.767176069276333}, {'day': '2023-04-27 00:00:00.000 UTC', 'num_evm_tx': 939262, 'num_mevblocker_tx': 9620, 'tx_proportion': 1.0242083678462452}, {'day': '2023-07-14 00:00:00.000 UTC', 'num_evm_tx': 1110332, 'num_mevblocker_tx': 50164, 'tx_proportion': 4.51792797109333}, {'day': '2023-05-26 00:00:00.000 UTC', 'num_evm_tx': 1059510, 'num_mevblocker_tx': 49869, 'tx_proportion': 4.706798425687346}, {'day': '2023-06-27 00:00:00.000 UTC', 'num_evm_tx': 1067370, 'num_mevblocker_tx': 39498, 'tx_proportion': 3.700497484471177}, {'day': '2023-07-17 00:00:00.000 UTC', 'num_evm_tx': 1036419, 'num_mevblocker_tx': 60821, 'tx_proportion': 5.8683794874466795}], 'metadata': {'column_names': ['day', 'num_mevblocker_tx', 'num_evm_tx', 'tx_proportion'], 'result_set_bytes': 5888, 'total_row_count': 101, 'datapoint_count': 404, 'pending_time_millis': 10, 'execution_time_millis': 18585}}\n"
          ]
        }
      ]
    },
    {
      "cell_type": "code",
      "source": [
        "data = pd.DataFrame(response.json()['result']['rows'])"
      ],
      "metadata": {
        "id": "Sh_iTJHCBFAZ"
      },
      "execution_count": 56,
      "outputs": []
    },
    {
      "cell_type": "code",
      "source": [
        "data"
      ],
      "metadata": {
        "colab": {
          "base_uri": "https://localhost:8080/",
          "height": 419
        },
        "id": "VV7aYgPBBIML",
        "outputId": "d520db4a-2659-459e-88ce-1a3a7c78b189"
      },
      "execution_count": 57,
      "outputs": [
        {
          "output_type": "execute_result",
          "data": {
            "text/plain": [
              "                             day  num_evm_tx  num_mevblocker_tx  tx_proportion\n",
              "0    2023-07-08 00:00:00.000 UTC     1014086              56001       5.522313\n",
              "1    2023-08-01 00:00:00.000 UTC     1068108              55405       5.187210\n",
              "2    2023-07-30 00:00:00.000 UTC      981157              38574       3.931481\n",
              "3    2023-06-21 00:00:00.000 UTC     1091714              41137       3.768111\n",
              "4    2023-06-14 00:00:00.000 UTC     1023424              36768       3.592646\n",
              "..                           ...         ...                ...            ...\n",
              "96   2023-04-27 00:00:00.000 UTC      939262               9620       1.024208\n",
              "97   2023-07-14 00:00:00.000 UTC     1110332              50164       4.517928\n",
              "98   2023-05-26 00:00:00.000 UTC     1059510              49869       4.706798\n",
              "99   2023-06-27 00:00:00.000 UTC     1067370              39498       3.700497\n",
              "100  2023-07-17 00:00:00.000 UTC     1036419              60821       5.868379\n",
              "\n",
              "[101 rows x 4 columns]"
            ],
            "text/html": [
              "\n",
              "\n",
              "  <div id=\"df-dc250932-08ea-48a5-b043-e08db2f8ce0e\">\n",
              "    <div class=\"colab-df-container\">\n",
              "      <div>\n",
              "<style scoped>\n",
              "    .dataframe tbody tr th:only-of-type {\n",
              "        vertical-align: middle;\n",
              "    }\n",
              "\n",
              "    .dataframe tbody tr th {\n",
              "        vertical-align: top;\n",
              "    }\n",
              "\n",
              "    .dataframe thead th {\n",
              "        text-align: right;\n",
              "    }\n",
              "</style>\n",
              "<table border=\"1\" class=\"dataframe\">\n",
              "  <thead>\n",
              "    <tr style=\"text-align: right;\">\n",
              "      <th></th>\n",
              "      <th>day</th>\n",
              "      <th>num_evm_tx</th>\n",
              "      <th>num_mevblocker_tx</th>\n",
              "      <th>tx_proportion</th>\n",
              "    </tr>\n",
              "  </thead>\n",
              "  <tbody>\n",
              "    <tr>\n",
              "      <th>0</th>\n",
              "      <td>2023-07-08 00:00:00.000 UTC</td>\n",
              "      <td>1014086</td>\n",
              "      <td>56001</td>\n",
              "      <td>5.522313</td>\n",
              "    </tr>\n",
              "    <tr>\n",
              "      <th>1</th>\n",
              "      <td>2023-08-01 00:00:00.000 UTC</td>\n",
              "      <td>1068108</td>\n",
              "      <td>55405</td>\n",
              "      <td>5.187210</td>\n",
              "    </tr>\n",
              "    <tr>\n",
              "      <th>2</th>\n",
              "      <td>2023-07-30 00:00:00.000 UTC</td>\n",
              "      <td>981157</td>\n",
              "      <td>38574</td>\n",
              "      <td>3.931481</td>\n",
              "    </tr>\n",
              "    <tr>\n",
              "      <th>3</th>\n",
              "      <td>2023-06-21 00:00:00.000 UTC</td>\n",
              "      <td>1091714</td>\n",
              "      <td>41137</td>\n",
              "      <td>3.768111</td>\n",
              "    </tr>\n",
              "    <tr>\n",
              "      <th>4</th>\n",
              "      <td>2023-06-14 00:00:00.000 UTC</td>\n",
              "      <td>1023424</td>\n",
              "      <td>36768</td>\n",
              "      <td>3.592646</td>\n",
              "    </tr>\n",
              "    <tr>\n",
              "      <th>...</th>\n",
              "      <td>...</td>\n",
              "      <td>...</td>\n",
              "      <td>...</td>\n",
              "      <td>...</td>\n",
              "    </tr>\n",
              "    <tr>\n",
              "      <th>96</th>\n",
              "      <td>2023-04-27 00:00:00.000 UTC</td>\n",
              "      <td>939262</td>\n",
              "      <td>9620</td>\n",
              "      <td>1.024208</td>\n",
              "    </tr>\n",
              "    <tr>\n",
              "      <th>97</th>\n",
              "      <td>2023-07-14 00:00:00.000 UTC</td>\n",
              "      <td>1110332</td>\n",
              "      <td>50164</td>\n",
              "      <td>4.517928</td>\n",
              "    </tr>\n",
              "    <tr>\n",
              "      <th>98</th>\n",
              "      <td>2023-05-26 00:00:00.000 UTC</td>\n",
              "      <td>1059510</td>\n",
              "      <td>49869</td>\n",
              "      <td>4.706798</td>\n",
              "    </tr>\n",
              "    <tr>\n",
              "      <th>99</th>\n",
              "      <td>2023-06-27 00:00:00.000 UTC</td>\n",
              "      <td>1067370</td>\n",
              "      <td>39498</td>\n",
              "      <td>3.700497</td>\n",
              "    </tr>\n",
              "    <tr>\n",
              "      <th>100</th>\n",
              "      <td>2023-07-17 00:00:00.000 UTC</td>\n",
              "      <td>1036419</td>\n",
              "      <td>60821</td>\n",
              "      <td>5.868379</td>\n",
              "    </tr>\n",
              "  </tbody>\n",
              "</table>\n",
              "<p>101 rows × 4 columns</p>\n",
              "</div>\n",
              "      <button class=\"colab-df-convert\" onclick=\"convertToInteractive('df-dc250932-08ea-48a5-b043-e08db2f8ce0e')\"\n",
              "              title=\"Convert this dataframe to an interactive table.\"\n",
              "              style=\"display:none;\">\n",
              "\n",
              "  <svg xmlns=\"http://www.w3.org/2000/svg\" height=\"24px\"viewBox=\"0 0 24 24\"\n",
              "       width=\"24px\">\n",
              "    <path d=\"M0 0h24v24H0V0z\" fill=\"none\"/>\n",
              "    <path d=\"M18.56 5.44l.94 2.06.94-2.06 2.06-.94-2.06-.94-.94-2.06-.94 2.06-2.06.94zm-11 1L8.5 8.5l.94-2.06 2.06-.94-2.06-.94L8.5 2.5l-.94 2.06-2.06.94zm10 10l.94 2.06.94-2.06 2.06-.94-2.06-.94-.94-2.06-.94 2.06-2.06.94z\"/><path d=\"M17.41 7.96l-1.37-1.37c-.4-.4-.92-.59-1.43-.59-.52 0-1.04.2-1.43.59L10.3 9.45l-7.72 7.72c-.78.78-.78 2.05 0 2.83L4 21.41c.39.39.9.59 1.41.59.51 0 1.02-.2 1.41-.59l7.78-7.78 2.81-2.81c.8-.78.8-2.07 0-2.86zM5.41 20L4 18.59l7.72-7.72 1.47 1.35L5.41 20z\"/>\n",
              "  </svg>\n",
              "      </button>\n",
              "\n",
              "\n",
              "\n",
              "    <div id=\"df-f1ab1798-195e-47d1-a22a-f619a719ec2e\">\n",
              "      <button class=\"colab-df-quickchart\" onclick=\"quickchart('df-f1ab1798-195e-47d1-a22a-f619a719ec2e')\"\n",
              "              title=\"Suggest charts.\"\n",
              "              style=\"display:none;\">\n",
              "\n",
              "<svg xmlns=\"http://www.w3.org/2000/svg\" height=\"24px\"viewBox=\"0 0 24 24\"\n",
              "     width=\"24px\">\n",
              "    <g>\n",
              "        <path d=\"M19 3H5c-1.1 0-2 .9-2 2v14c0 1.1.9 2 2 2h14c1.1 0 2-.9 2-2V5c0-1.1-.9-2-2-2zM9 17H7v-7h2v7zm4 0h-2V7h2v10zm4 0h-2v-4h2v4z\"/>\n",
              "    </g>\n",
              "</svg>\n",
              "      </button>\n",
              "    </div>\n",
              "\n",
              "<style>\n",
              "  .colab-df-quickchart {\n",
              "    background-color: #E8F0FE;\n",
              "    border: none;\n",
              "    border-radius: 50%;\n",
              "    cursor: pointer;\n",
              "    display: none;\n",
              "    fill: #1967D2;\n",
              "    height: 32px;\n",
              "    padding: 0 0 0 0;\n",
              "    width: 32px;\n",
              "  }\n",
              "\n",
              "  .colab-df-quickchart:hover {\n",
              "    background-color: #E2EBFA;\n",
              "    box-shadow: 0px 1px 2px rgba(60, 64, 67, 0.3), 0px 1px 3px 1px rgba(60, 64, 67, 0.15);\n",
              "    fill: #174EA6;\n",
              "  }\n",
              "\n",
              "  [theme=dark] .colab-df-quickchart {\n",
              "    background-color: #3B4455;\n",
              "    fill: #D2E3FC;\n",
              "  }\n",
              "\n",
              "  [theme=dark] .colab-df-quickchart:hover {\n",
              "    background-color: #434B5C;\n",
              "    box-shadow: 0px 1px 3px 1px rgba(0, 0, 0, 0.15);\n",
              "    filter: drop-shadow(0px 1px 2px rgba(0, 0, 0, 0.3));\n",
              "    fill: #FFFFFF;\n",
              "  }\n",
              "</style>\n",
              "\n",
              "    <script>\n",
              "      async function quickchart(key) {\n",
              "        const containerElement = document.querySelector('#' + key);\n",
              "        const charts = await google.colab.kernel.invokeFunction(\n",
              "            'suggestCharts', [key], {});\n",
              "      }\n",
              "    </script>\n",
              "\n",
              "      <script>\n",
              "\n",
              "function displayQuickchartButton(domScope) {\n",
              "  let quickchartButtonEl =\n",
              "    domScope.querySelector('#df-f1ab1798-195e-47d1-a22a-f619a719ec2e button.colab-df-quickchart');\n",
              "  quickchartButtonEl.style.display =\n",
              "    google.colab.kernel.accessAllowed ? 'block' : 'none';\n",
              "}\n",
              "\n",
              "        displayQuickchartButton(document);\n",
              "      </script>\n",
              "      <style>\n",
              "    .colab-df-container {\n",
              "      display:flex;\n",
              "      flex-wrap:wrap;\n",
              "      gap: 12px;\n",
              "    }\n",
              "\n",
              "    .colab-df-convert {\n",
              "      background-color: #E8F0FE;\n",
              "      border: none;\n",
              "      border-radius: 50%;\n",
              "      cursor: pointer;\n",
              "      display: none;\n",
              "      fill: #1967D2;\n",
              "      height: 32px;\n",
              "      padding: 0 0 0 0;\n",
              "      width: 32px;\n",
              "    }\n",
              "\n",
              "    .colab-df-convert:hover {\n",
              "      background-color: #E2EBFA;\n",
              "      box-shadow: 0px 1px 2px rgba(60, 64, 67, 0.3), 0px 1px 3px 1px rgba(60, 64, 67, 0.15);\n",
              "      fill: #174EA6;\n",
              "    }\n",
              "\n",
              "    [theme=dark] .colab-df-convert {\n",
              "      background-color: #3B4455;\n",
              "      fill: #D2E3FC;\n",
              "    }\n",
              "\n",
              "    [theme=dark] .colab-df-convert:hover {\n",
              "      background-color: #434B5C;\n",
              "      box-shadow: 0px 1px 3px 1px rgba(0, 0, 0, 0.15);\n",
              "      filter: drop-shadow(0px 1px 2px rgba(0, 0, 0, 0.3));\n",
              "      fill: #FFFFFF;\n",
              "    }\n",
              "  </style>\n",
              "\n",
              "      <script>\n",
              "        const buttonEl =\n",
              "          document.querySelector('#df-dc250932-08ea-48a5-b043-e08db2f8ce0e button.colab-df-convert');\n",
              "        buttonEl.style.display =\n",
              "          google.colab.kernel.accessAllowed ? 'block' : 'none';\n",
              "\n",
              "        async function convertToInteractive(key) {\n",
              "          const element = document.querySelector('#df-dc250932-08ea-48a5-b043-e08db2f8ce0e');\n",
              "          const dataTable =\n",
              "            await google.colab.kernel.invokeFunction('convertToInteractive',\n",
              "                                                     [key], {});\n",
              "          if (!dataTable) return;\n",
              "\n",
              "          const docLinkHtml = 'Like what you see? Visit the ' +\n",
              "            '<a target=\"_blank\" href=https://colab.research.google.com/notebooks/data_table.ipynb>data table notebook</a>'\n",
              "            + ' to learn more about interactive tables.';\n",
              "          element.innerHTML = '';\n",
              "          dataTable['output_type'] = 'display_data';\n",
              "          await google.colab.output.renderOutput(dataTable, element);\n",
              "          const docLink = document.createElement('div');\n",
              "          docLink.innerHTML = docLinkHtml;\n",
              "          element.appendChild(docLink);\n",
              "        }\n",
              "      </script>\n",
              "    </div>\n",
              "  </div>\n"
            ]
          },
          "metadata": {},
          "execution_count": 57
        }
      ]
    },
    {
      "cell_type": "code",
      "source": [
        "data.to_csv('MEVblocker.csv',index=False)"
      ],
      "metadata": {
        "id": "55jUdvquDnyS"
      },
      "execution_count": 58,
      "outputs": []
    },
    {
      "cell_type": "code",
      "source": [
        "response = cancel_query_execution(execution_id)"
      ],
      "metadata": {
        "id": "kscONU9jBJSV"
      },
      "execution_count": 59,
      "outputs": []
    },
    {
      "cell_type": "code",
      "source": [],
      "metadata": {
        "id": "yHz0XFHWEOTH"
      },
      "execution_count": null,
      "outputs": []
    }
  ]
}
